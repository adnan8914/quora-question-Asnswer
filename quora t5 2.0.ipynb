{
 "cells": [
  {
   "cell_type": "code",
   "execution_count": 1,
   "id": "dd2dd410",
   "metadata": {},
   "outputs": [
    {
     "name": "stdout",
     "output_type": "stream",
     "text": [
      "WARNING:tensorflow:From C:\\Users\\Adnan\\anaconda3\\Lib\\site-packages\\keras\\src\\losses.py:2976: The name tf.losses.sparse_softmax_cross_entropy is deprecated. Please use tf.compat.v1.losses.sparse_softmax_cross_entropy instead.\n",
      "\n"
     ]
    }
   ],
   "source": [
    "import numpy as np\n",
    "import pandas as pd\n",
    "from datasets import Dataset\n",
    "from transformers import T5Tokenizer, T5ForConditionalGeneration, Trainer, TrainingArguments\n",
    "import torch"
   ]
  },
  {
   "cell_type": "code",
   "execution_count": 2,
   "id": "ab4662b8",
   "metadata": {},
   "outputs": [],
   "source": [
    "# Load your cleaned dataset\n",
    "train_df = pd.read_csv('C:/Users/Adnan/cleaned_train_dataset.csv')\n",
    "test_df = pd.read_csv('C:/Users/Adnan/cleaned_test_dataset.csv')"
   ]
  },
  {
   "cell_type": "code",
   "execution_count": 3,
   "id": "d82329d4",
   "metadata": {},
   "outputs": [],
   "source": [
    "# Prepare the dataset for T5\n",
    "train_df['input_text'] = 'question: ' + train_df['processed_question']\n",
    "train_df['target_text'] = train_df['processed_answer']\n",
    "test_df['input_text'] = 'question: ' + test_df['processed_question']\n",
    "test_df['target_text'] = test_df['processed_answer']"
   ]
  },
  {
   "cell_type": "code",
   "execution_count": 4,
   "id": "4ea65948",
   "metadata": {},
   "outputs": [],
   "source": [
    "# Split the dataset into smaller subsets\n",
    "num_splits = 4  # Define the number of splits\n",
    "train_subsets = np.array_split(train_df, num_splits)\n",
    "test_subsets = np.array_split(test_df, num_splits)\n"
   ]
  },
  {
   "cell_type": "code",
   "execution_count": 5,
   "id": "d2dd5312",
   "metadata": {},
   "outputs": [
    {
     "name": "stderr",
     "output_type": "stream",
     "text": [
      "You are using the default legacy behaviour of the <class 'transformers.models.t5.tokenization_t5.T5Tokenizer'>. This is expected, and simply means that the `legacy` (previous) behavior will be used so nothing changes for you. If you want to use the new behaviour, set `legacy=False`. This should only be set if you understand what it means, and thoroughly read the reason why this was added as explained in https://github.com/huggingface/transformers/pull/24565\n"
     ]
    }
   ],
   "source": [
    "# Initialize tokenizer\n",
    "tokenizer = T5Tokenizer.from_pretrained('t5-small')\n",
    "\n",
    "# Define a function to tokenize the datasets\n",
    "def tokenize_function(examples):\n",
    "    input_texts = [str(text) for text in examples['input_text']]\n",
    "    target_texts = [str(text) for text in examples['target_text']]\n",
    "    \n",
    "    model_inputs = tokenizer(input_texts, max_length=512, truncation=True, padding='max_length')\n",
    "    labels = tokenizer(target_texts, max_length=512, truncation=True, padding='max_length')\n",
    "    \n",
    "    model_inputs['labels'] = labels['input_ids']\n",
    "    return model_inputs"
   ]
  },
  {
   "cell_type": "code",
   "execution_count": null,
   "id": "e0c0f83c",
   "metadata": {},
   "outputs": [
    {
     "data": {
      "application/vnd.jupyter.widget-view+json": {
       "model_id": "1c139ee1c3374930a589c74c9bd053a2",
       "version_major": 2,
       "version_minor": 0
      },
      "text/plain": [
       "Map:   0%|          | 0/8461 [00:00<?, ? examples/s]"
      ]
     },
     "metadata": {},
     "output_type": "display_data"
    },
    {
     "data": {
      "application/vnd.jupyter.widget-view+json": {
       "model_id": "b36a4d9ab29340418712bbbe7153d60d",
       "version_major": 2,
       "version_minor": 0
      },
      "text/plain": [
       "Map:   0%|          | 0/5641 [00:00<?, ? examples/s]"
      ]
     },
     "metadata": {},
     "output_type": "display_data"
    },
    {
     "data": {
      "text/html": [
       "\n",
       "    <div>\n",
       "      \n",
       "      <progress value='2' max='2116' style='width:300px; height:20px; vertical-align: middle;'></progress>\n",
       "      [   2/2116 : < :, Epoch 0.00/1]\n",
       "    </div>\n",
       "    <table border=\"1\" class=\"dataframe\">\n",
       "  <thead>\n",
       " <tr style=\"text-align: left;\">\n",
       "      <th>Step</th>\n",
       "      <th>Training Loss</th>\n",
       "    </tr>\n",
       "  </thead>\n",
       "  <tbody>\n",
       "  </tbody>\n",
       "</table><p>"
      ],
      "text/plain": [
       "<IPython.core.display.HTML object>"
      ]
     },
     "metadata": {},
     "output_type": "display_data"
    }
   ],
   "source": [
    "models = []\n",
    "\n",
    "for i, (train_subset, test_subset) in enumerate(zip(train_subsets, test_subsets)):\n",
    "    train_dataset = Dataset.from_pandas(train_subset[['input_text', 'target_text']])\n",
    "    test_dataset = Dataset.from_pandas(test_subset[['input_text', 'target_text']])\n",
    "    \n",
    "    train_tokenized = train_dataset.map(tokenize_function, batched=True)\n",
    "    test_tokenized = test_dataset.map(tokenize_function, batched=True)\n",
    "\n",
    "    model = T5ForConditionalGeneration.from_pretrained('t5-small')\n",
    "\n",
    "    training_args = TrainingArguments(\n",
    "        output_dir=f'./results_{i}',\n",
    "        num_train_epochs=1,  # Reduced epochs\n",
    "        per_device_train_batch_size=4,\n",
    "        per_device_eval_batch_size=4,\n",
    "        warmup_steps=500,\n",
    "        weight_decay=0.01,\n",
    "        logging_dir=f'./logs_{i}',\n",
    "        logging_steps=10,\n",
    "        fp16=torch.cuda.is_available(),  # Enable fp16 only if GPU is available\n",
    "        save_steps=1000,\n",
    "        save_total_limit=2,\n",
    "        dataloader_num_workers=4  # Use multiple workers for data loading\n",
    "    )\n",
    "\n",
    "    trainer = Trainer(\n",
    "        model=model,\n",
    "        args=training_args,\n",
    "        train_dataset=train_tokenized,\n",
    "        eval_dataset=test_tokenized,\n",
    "    )\n",
    "\n",
    "    trainer.train()\n",
    "    eval_results = trainer.evaluate()\n",
    "    print(f\"Results for model {i}: {eval_results}\")\n",
    "\n",
    "    model.save_pretrained(f'./t5-chatbot-model_{i}')\n",
    "    tokenizer.save_pretrained(f'./t5-chatbot-model_{i}')\n",
    "    models.append(model)"
   ]
  },
  {
   "cell_type": "code",
   "execution_count": null,
   "id": "64360412",
   "metadata": {},
   "outputs": [],
   "source": [
    "def generate_response(question, model, tokenizer):\n",
    "    input_text = 'question: ' + question\n",
    "    input_ids = tokenizer.encode(input_text, return_tensors='pt')\n",
    "    output = model.generate(input_ids)\n",
    "    response = tokenizer.decode(output[0], skip_special_tokens=True)\n",
    "    return response\n",
    "\n",
    "# Example usage with the first model\n",
    "best_model = models[0]\n",
    "best_tokenizer = tokenizer\n",
    "print(generate_response(\"What is the capital of France?\", best_model, best_tokenizer))"
   ]
  },
  {
   "cell_type": "code",
   "execution_count": null,
   "id": "1d64289a",
   "metadata": {},
   "outputs": [],
   "source": []
  }
 ],
 "metadata": {
  "kernelspec": {
   "display_name": "Python 3 (ipykernel)",
   "language": "python",
   "name": "python3"
  },
  "language_info": {
   "codemirror_mode": {
    "name": "ipython",
    "version": 3
   },
   "file_extension": ".py",
   "mimetype": "text/x-python",
   "name": "python",
   "nbconvert_exporter": "python",
   "pygments_lexer": "ipython3",
   "version": "3.11.5"
  }
 },
 "nbformat": 4,
 "nbformat_minor": 5
}
